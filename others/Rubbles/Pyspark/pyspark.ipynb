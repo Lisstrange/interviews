{
 "cells": [
  {
   "cell_type": "markdown",
   "metadata": {},
   "source": [
    "Дана таблица/spark dataframe с датасетом для построения модели и предсказаниями этой модели.\n",
    "\n",
    "В нем есть колонки target (значение, которое мы предсказывали), prediction (предсказание модели), is_validation (False если строка - в обучающей выборке,\n",
    "\n",
    " True - если в валидационной). Требуется написать pyspark код, который посчитает MSE и MAE для тренировочной и валидационной выборок.    \n",
    " "
   ]
  },
  {
   "cell_type": "code",
   "execution_count": null,
   "metadata": {},
   "outputs": [],
   "source": [
    "import pandas as pd\n",
    "df = spark.table('table_name')\n",
    "df = spark.read.format('csv').load('/data/path/..', sep=';', headr=True)\n",
    "\n",
    "df=df[['target', 'prediction', 'is_validation']]\n",
    "def mae_mse_(df : spark.dataframe):\n",
    "    df.withColumn('MAE', abs(  col('target') - col('prediction')  ))\n",
    "    df.withColumn('MSE', ( col('target') - col('prediction') )^2)\n",
    "\n",
    "\n",
    "    MSE = df[['MSE']].groupBy().mean()\n",
    "    MAE = df[['MAE']].groupBy().mean()\n",
    "\n",
    "    res_df = pd.DataFrame({'MSE':MSE,\n",
    "                           'MAE':MAE})\n",
    "    return     spark.createeDataFrame(res_df)"
   ]
  }
 ],
 "metadata": {
  "language_info": {
   "name": "python"
  },
  "orig_nbformat": 4
 },
 "nbformat": 4,
 "nbformat_minor": 2
}

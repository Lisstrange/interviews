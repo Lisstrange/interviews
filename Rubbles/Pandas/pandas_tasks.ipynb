{
 "cells": [
  {
   "cell_type": "markdown",
   "metadata": {},
   "source": [
    "Дана таблица/spark dataframe с датасетом для построения модели и предсказаниями этой модели.\n",
    "\n",
    "В нем есть колонки target (значение, которое мы предсказывали), prediction (предсказание модели), is_validation (False если строка - в обучающей выборке,\n",
    "\n",
    " True - если в валидационной). Требуется написать pyspark код, который посчитает MSE и MAE для тренировочной и валидационной выборок.    \n",
    " "
   ]
  },
  {
   "cell_type": "code",
   "execution_count": null,
   "metadata": {},
   "outputs": [],
   "source": [
    "import pandas as pd\n",
    "df=pd.DataFrame()\n",
    "df[['target', 'prediction', 'is_validation']]\n",
    "\n",
    "\n",
    "# MSE = (Ypred-Ytrue)^2/n\n",
    "# MAE = |Ypred-Ytrue|/n\n",
    " \n",
    "df_valid=df[['target', 'prediction']]['is_validation'==True]  # pandas & PySpark\n",
    "df_test=df[['target', 'prediction']]['is_validation'==False]  # pandas & PySpark\n",
    "\n",
    "## Pandas\n",
    "df_valid['MSE_valid'] = df_valid.apply(lambda x: (x['prediction']-x['target'])^2)\n",
    "df_valid['MAE_valid'] = df_valid.apply(lambda x: np.abs( (x['prediction']-x['target']))  )\n",
    "\n",
    "MSE_valid = sum(df_valid['MSE_valid'])/len(df_valid)\n",
    "MAE_valid = sum(df_valid['MAE_valid'])/len(df_valid)\n",
    "\n",
    "\n",
    "df_test['MSE_test'] = df_test.apply(lambda x: (x['prediction']-x['target'])^2)\n",
    "df_test['MAE_test'] = df_test.apply(lambda x: np.abs( (x['prediction']-x['target']))  )\n",
    "\n",
    "MSE_test = sum(df_test['MSE_test'])/len(df_test)\n",
    "MAE_test = sum(df_test['MAE_test'])/len(df_test)\n",
    "\n",
    "\n",
    "\n",
    "\n",
    "\n",
    "\n",
    "pd.DataFrame({'MSE_valid':MSE_valid,\n",
    " 'MAE_valid':MAE_valid,\n",
    " 'MSE_test':MSE_test,\n",
    " 'MAE_test':MAE_test\n",
    "})"
   ]
  }
 ],
 "metadata": {
  "interpreter": {
   "hash": "5b92fdd3d7e0d89591720054a14a7af8098b3e488fe26d797e963c2f1ca6fea1"
  },
  "kernelspec": {
   "display_name": "Python 3.9.0 64-bit ('dmia_base': pyenv)",
   "name": "python3"
  },
  "language_info": {
   "name": "python",
   "version": "3.9.0"
  },
  "orig_nbformat": 4
 },
 "nbformat": 4,
 "nbformat_minor": 2
}
